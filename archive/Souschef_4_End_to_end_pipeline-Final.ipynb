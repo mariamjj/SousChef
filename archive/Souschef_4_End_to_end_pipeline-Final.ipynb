{
 "cells": [
  {
   "cell_type": "markdown",
   "metadata": {},
   "source": [
    "# SousChef - End to End Pipeline_4"
   ]
  },
  {
   "cell_type": "markdown",
   "metadata": {},
   "source": [
    "**Objective**: Our objective for this notebook is to filter the dataframe of 5000+ All Recipes recipes, topic modelled meal types, and predicted cuisines and return a recommended recipe to the user based on the inputs"
   ]
  },
  {
   "cell_type": "code",
   "execution_count": 1,
   "metadata": {},
   "outputs": [],
   "source": [
    "import pandas as pd\n",
    "import numpy as np\n",
    "import json\n",
    "from sklearn.feature_extraction.text import CountVectorizer, TfidfVectorizer, TfidfTransformer\n",
    "\n",
    "\n",
    "import pickle"
   ]
  },
  {
   "cell_type": "code",
   "execution_count": 26,
   "metadata": {},
   "outputs": [],
   "source": [
    "# df = pd.read_csv('datasets/final_recipes.csv')"
   ]
  },
  {
   "cell_type": "code",
   "execution_count": 27,
   "metadata": {},
   "outputs": [],
   "source": [
    "# df.head()"
   ]
  },
  {
   "cell_type": "markdown",
   "metadata": {},
   "source": [
    "## EDA"
   ]
  },
  {
   "cell_type": "code",
   "execution_count": 28,
   "metadata": {},
   "outputs": [],
   "source": [
    "# df.columns"
   ]
  },
  {
   "cell_type": "code",
   "execution_count": 29,
   "metadata": {},
   "outputs": [],
   "source": [
    "# df.drop(['title_ing_joined'], axis = 1, inplace = True)\n",
    "# df = df[['title', 'time', 'meal_type', 'cuisine', 'instructions', 'ingredients', 'formatted_text', 'joined']]"
   ]
  },
  {
   "cell_type": "code",
   "execution_count": 30,
   "metadata": {},
   "outputs": [],
   "source": [
    "# df.columns = ['title', 'time', 'meal_type', 'cuisine','instructions', 'ingredients', 'list_ingredients', 'ingred_string']\n",
    "# df.head()"
   ]
  },
  {
   "cell_type": "code",
   "execution_count": 31,
   "metadata": {},
   "outputs": [],
   "source": [
    "# df['id'] = np.random.randint(0,df.shape[0], df.shape[0])"
   ]
  },
  {
   "cell_type": "code",
   "execution_count": 32,
   "metadata": {},
   "outputs": [],
   "source": [
    "# df.columns"
   ]
  },
  {
   "cell_type": "code",
   "execution_count": 33,
   "metadata": {},
   "outputs": [],
   "source": [
    "# df = df[['id', 'title', 'time', 'meal_type', 'cuisine', 'instructions', 'ingredients',\n",
    "#        'list_ingredients', 'ingred_string']]\n",
    "# df.head()"
   ]
  },
  {
   "cell_type": "code",
   "execution_count": 34,
   "metadata": {},
   "outputs": [],
   "source": [
    "# df.to_csv('datasets/final_dataset.csv', index = False)"
   ]
  },
  {
   "cell_type": "markdown",
   "metadata": {},
   "source": [
    "## Cuisine Predictions Based on User Input"
   ]
  },
  {
   "cell_type": "code",
   "execution_count": 11,
   "metadata": {},
   "outputs": [],
   "source": [
    "# with open('datasets/whats-cooking/train.json', 'r') as f:\n",
    "#     txt = f.read()\n",
    "# df_cus = pd.DataFrame(json.loads(txt))\n",
    "# df_cus.head()"
   ]
  },
  {
   "cell_type": "code",
   "execution_count": 12,
   "metadata": {},
   "outputs": [],
   "source": [
    "# #cleaning the data\n",
    "# df_cus['joined'] = df_cus.ingredients.map(lambda x: ' '.join(x))\n",
    "# df_nb = df_cus[['cuisine','joined']]\n",
    "# df_nb.head()"
   ]
  },
  {
   "cell_type": "code",
   "execution_count": 13,
   "metadata": {},
   "outputs": [],
   "source": [
    "# #save new df\n",
    "# df_nb.to_csv('datasets/final_cuisines.csv', index = False)"
   ]
  },
  {
   "cell_type": "code",
   "execution_count": 14,
   "metadata": {},
   "outputs": [],
   "source": [
    "# count_vect = CountVectorizer()\n",
    "# tfidf_transformer = TfidfTransformer()\n",
    "# X = count_vect.fit_transform(df_nb.joined)\n",
    "# X = tfidf_transformer.fit_transform(X)\n",
    "# X.shape"
   ]
  },
  {
   "cell_type": "code",
   "execution_count": 15,
   "metadata": {},
   "outputs": [],
   "source": [
    "# from sklearn.externals import joblib\n",
    "\n",
    "# model = joblib.load('cuisine_class.pkl')"
   ]
  },
  {
   "cell_type": "code",
   "execution_count": 16,
   "metadata": {},
   "outputs": [],
   "source": [
    "# user_input = ['chicken', 'mushroom', 'lettuce']"
   ]
  },
  {
   "cell_type": "code",
   "execution_count": 17,
   "metadata": {},
   "outputs": [],
   "source": [
    "# user_format = \" \".join(user_input)"
   ]
  },
  {
   "cell_type": "code",
   "execution_count": 18,
   "metadata": {},
   "outputs": [],
   "source": [
    "# user_format"
   ]
  },
  {
   "cell_type": "code",
   "execution_count": 19,
   "metadata": {},
   "outputs": [],
   "source": [
    "# ch_dict = dict([(y,x) for x,y in enumerate(set(df_nb.cuisine))])\n",
    "\n",
    "# dec_dict = dict([(x,y) for y,x in ch_dict.items()])\n",
    "\n",
    "# X_user = np.array(list(user_format))\n",
    "# X_user = count_vect.transform(X_user)\n",
    "# X_user = tfidf_transformer.transform(X_user)"
   ]
  },
  {
   "cell_type": "code",
   "execution_count": 20,
   "metadata": {},
   "outputs": [],
   "source": [
    "# preds = model.predict(X_user)\n",
    "\n",
    "# y_user = [dec_dict[np.argmax(preds)]]\n",
    "# cuisine_user = y_user\n",
    "# cuisine_user"
   ]
  },
  {
   "cell_type": "code",
   "execution_count": 21,
   "metadata": {},
   "outputs": [],
   "source": [
    "# cuis_str = ''.join(cuisine_user)\n",
    "# cuis_str"
   ]
  },
  {
   "cell_type": "markdown",
   "metadata": {},
   "source": [
    "## Recipe Recommender"
   ]
  },
  {
   "cell_type": "code",
   "execution_count": 35,
   "metadata": {},
   "outputs": [],
   "source": [
    "def cuis_pred(user_input):\n",
    "    '''function returns the cuisine prediction based on the user input ingredients\n",
    "    Input: \n",
    "        user_input = list of string ingredients\n",
    "    \n",
    "    '''\n",
    "    import pandas as pd\n",
    "    import numpy as np\n",
    "    import json\n",
    "    from sklearn.feature_extraction.text import CountVectorizer, TfidfVectorizer, TfidfTransformer\n",
    "    from sklearn.externals import joblib\n",
    "    \n",
    "    #format the user_input\n",
    "    user_format = \" \".join(user_input)\n",
    "    \n",
    "    #call the cuisines file\n",
    "    df_nb = pd.read_csv('datasets/final_cuisines.csv')\n",
    "    \n",
    "    count_vect = CountVectorizer()\n",
    "    tfidf_transformer = TfidfTransformer()\n",
    "    \n",
    "    #transform the text\n",
    "    X = count_vect.fit_transform(df_nb.joined)\n",
    "    X = tfidf_transformer.fit_transform(X)\n",
    "    \n",
    "    #call model\n",
    "    model = joblib.load('cuisine_class_att1.pkl')\n",
    "    \n",
    "    #transform the user_formats\n",
    "    ch_dict = dict([(y,x) for x,y in enumerate(set(df_nb.cuisine))])\n",
    "\n",
    "    dec_dict = dict([(x,y) for y,x in ch_dict.items()])\n",
    "\n",
    "    X_user = np.array(list(user_format))\n",
    "    X_user = count_vect.transform(X_user)\n",
    "    X_user = tfidf_transformer.transform(X_user)\n",
    "    \n",
    "    #predictions\n",
    "    preds = model.predict(X_user)\n",
    "\n",
    "    y_user = [dec_dict[np.argmax(preds)]]\n",
    "    \n",
    "    cuisine = ''.join(y_user)\n",
    "    \n",
    "    return cuisine"
   ]
  },
  {
   "cell_type": "code",
   "execution_count": 36,
   "metadata": {},
   "outputs": [],
   "source": [
    "# Function to filter a dataframe based on a list of ingredients\n",
    "# to check if there's an ingredient in a recipe of df_in\n",
    "def filterbyIng(list_ing, cuisine):\n",
    "    '''function returns another dataframe that includes recipes with, at least, one component from list_ing\n",
    "    the output dataframe contains at least one ingredient\n",
    "    Input:\n",
    "        df_in    : dataframe to examine\n",
    "        list_ing : list of ingredients,e.g., ['cheese','lettuce','tomato']\n",
    "    '''\n",
    "    from itertools import combinations\n",
    "    \n",
    "    df_in = pd.read_csv('datasets/final_dataset.csv')\n",
    "    \n",
    "    df_out = pd.DataFrame([],columns= df_in.columns)\n",
    "    #df_out = df_in[df_in['cuisine'] == str(cuisine_user)]\n",
    "    \n",
    "    for each in list_ing:\n",
    "        \n",
    "        df_containing = df_in[df_in['list_ingredients'].str.contains(each)]\n",
    "        df_out = df_out.append(df_containing)\n",
    "        df_out = df_out.drop_duplicates(subset='title')\n",
    "        \n",
    "    df_user = df_out[df_out['cuisine']== cuisine]\n",
    "\n",
    "    return df_user[df_user.time == df_user.time.min()]"
   ]
  },
  {
   "cell_type": "code",
   "execution_count": 41,
   "metadata": {},
   "outputs": [],
   "source": [
    "user_input = ['chicken', 'mushroom', 'lettuce']\n",
    "#user_input = ['eggs', 'sugar', 'flour']\n",
    "#user_input = ['onion','mushroom','tomato']"
   ]
  },
  {
   "cell_type": "code",
   "execution_count": 42,
   "metadata": {},
   "outputs": [
    {
     "name": "stdout",
     "output_type": "stream",
     "text": [
      "SousChef recommends you make a japanese dish based on your listed ingredients! It's called Teriyaki Chicken. \n",
      "\n",
      "Don't you worry! SousChef has your back, the recipe will only take you 0 minutes to make this maindish. \n",
      "\n",
      "Ingredients: \n",
      "\n",
      "['1 (3 pound) whole chicken, cut in half', '¾ cup granulated sugar', '¾ cup soy sauce', '1 tablespoon grated fresh ginger', '2 cloves garlic, minced'] \n",
      "\n",
      "Instructions: \n",
      "\n",
      "Rinse chicken halves, and pat dry with paper towels. Place chicken cut side down in a 9x13 inch baking dish.\n",
      "In a medium mixing bowl, combine sugar, soy sauce, grated ginger and garlic. Mix well, and pour mixture over chicken. Cover and refrigerate for at least 3 hours.\n",
      "Preheat oven to 350 degrees F (175 degrees C).\n",
      "Bake chicken uncovered in the preheated oven for 1 hour, basting frequently. Test for doneness, making sure there is no pink left in the meat. Let cool slightly, then cut into smaller pieces to serve. \n",
      "\n"
     ]
    }
   ],
   "source": [
    "cuisine = cuis_pred(user_input)\n",
    "\n",
    "recomm_recipe = filterbyIng(user_input, cuisine)\n",
    "\n",
    "print('SousChef recommends you make a {} dish based on your listed ingredients! It\\'s called {}. \\n'.format(recomm_recipe['cuisine'].iloc[0], recomm_recipe['title'].iloc[0]))\n",
    "\n",
    "print('Don\\'t you worry! SousChef has your back, the recipe will only take you {} minutes to make this {}. \\n'.format(recomm_recipe['time'].iloc[0], recomm_recipe['meal_type'].iloc[0]))\n",
    "\n",
    "print('Ingredients: \\n')\n",
    "print(recomm_recipe['ingredients'].iloc[0], '\\n')\n",
    "\n",
    "print('Instructions: \\n')\n",
    "print(recomm_recipe['instructions'].iloc[0], '\\n')"
   ]
  },
  {
   "cell_type": "code",
   "execution_count": null,
   "metadata": {},
   "outputs": [],
   "source": []
  },
  {
   "cell_type": "code",
   "execution_count": null,
   "metadata": {},
   "outputs": [],
   "source": []
  },
  {
   "cell_type": "code",
   "execution_count": null,
   "metadata": {},
   "outputs": [],
   "source": []
  }
 ],
 "metadata": {
  "kernelspec": {
   "display_name": "Python 3",
   "language": "python",
   "name": "python3"
  },
  "language_info": {
   "codemirror_mode": {
    "name": "ipython",
    "version": 3
   },
   "file_extension": ".py",
   "mimetype": "text/x-python",
   "name": "python",
   "nbconvert_exporter": "python",
   "pygments_lexer": "ipython3",
   "version": "3.6.10"
  }
 },
 "nbformat": 4,
 "nbformat_minor": 2
}
